{
 "cells": [
  {
   "cell_type": "markdown",
   "id": "80339956-b3c6-4129-a02d-64de0a53f1be",
   "metadata": {},
   "source": [
    "# AGH Modelling of Physical Systems Lab 4 (2025 March 25th)\n",
    "Sylwester Arabas (sylwester.arabas@agh.edu.pl)\n",
    "\n",
    "Work done as part of the assignment is under **Lab 04 work** section."
   ]
  },
  {
   "cell_type": "code",
   "execution_count": 19,
   "id": "ed4d52c6-47b5-40f3-8ef4-43c13e405423",
   "metadata": {},
   "outputs": [],
   "source": [
    "import numpy as np\n",
    "from matplotlib import pyplot\n",
    "from open_atmos_jupyter_utils import show_plot, show_anim"
   ]
  },
  {
   "cell_type": "markdown",
   "id": "7561b80d",
   "metadata": {},
   "source": [
    "## Lab 04 work\n",
    "\n",
    "Wojciech Neuman (neuman@student.agh.edu.pl)"
   ]
  },
  {
   "cell_type": "code",
   "execution_count": 20,
   "id": "6c592db3",
   "metadata": {},
   "outputs": [],
   "source": [
    "import numpy as np\n",
    "import matplotlib.pyplot as plt\n",
    "from open_atmos_jupyter_utils import show_plot, show_anim"
   ]
  },
  {
   "cell_type": "markdown",
   "id": "aeef290b",
   "metadata": {},
   "source": [
    "## Advection-diffusion equation\n",
    "\n",
    "The advection-diffusion equation models how a quantity like pollutant concentration $C$ changes over time in a moving and diffusing medium. It combines the effects of transport due to fluid motion with spreading caused by diffusion. \n",
    "\n",
    "The formula for one-dimensional advection-diffusion equation is:\n",
    "\n",
    "$$\n",
    "\\frac{\\partial C}{\\partial t} + u \\frac{\\partial C}{\\partial x} - D \\frac{\\partial^2 C}{\\partial x^2} = 0\n",
    "$$\n",
    "\n",
    "Here, $u$ represents the velocity of the fluid flow, and $D$  denotes the diffusion coefficient of the substance within the fluid."
   ]
  },
  {
   "cell_type": "code",
   "execution_count": 21,
   "id": "2c8ccd28",
   "metadata": {},
   "outputs": [],
   "source": [
    "def F(psi_l, psi_r, C):\n",
    "    return .5 * (C + abs(C)) * psi_l + \\\n",
    "           .5 * (C - abs(C)) * psi_r\n",
    "\n",
    "class Shift:\n",
    "    def __init__(self, *, add, sub):\n",
    "        self.add = add\n",
    "        self.sub = sub\n",
    "        \n",
    "    \n",
    "    def __radd__(self, other):\n",
    "        return slice(other.start + self.add, other.stop + self.add)\n",
    "    \n",
    "    def __rsub__(self, other):\n",
    "        return slice(other.start - self.sub, other.stop - self.sub)\n",
    "\n",
    "one = Shift(add=1, sub=1)\n",
    "hlf = Shift(add=0, sub=1)"
   ]
  },
  {
   "cell_type": "code",
   "execution_count": 22,
   "id": "4186b3b7",
   "metadata": {},
   "outputs": [],
   "source": [
    "x_min = 0.05\n",
    "x_max = 10.05\n",
    "nx = 100\n",
    "\n",
    "x = np.linspace(x_min, x_max, nx, endpoint=False)\n",
    "\n",
    "D = 0.05\n",
    "u = 2.0\n",
    "M = 0.05\n",
    "\n",
    "t_min = 0.05\n",
    "t_max = 2.0\n",
    "nt = 1000\n",
    "\n",
    "dt = (t_max - t_min) / nt"
   ]
  },
  {
   "cell_type": "code",
   "execution_count": 23,
   "id": "5dfc49e5",
   "metadata": {},
   "outputs": [],
   "source": [
    "def analytical_solution(x, t, u, D):\n",
    "    \"\"\"Analytical solution for sinusoidal initial condition.\"\"\"\n",
    "    return np.exp(-((u ** 2) / (4 * D) + (np.pi ** 2) * D) * t) * np.sin(np.pi * x)\n",
    "\n",
    "\n",
    "psi_analytical = analytical_solution(x, t_min, u, D)"
   ]
  },
  {
   "cell_type": "code",
   "execution_count": 24,
   "id": "e0cc7da7",
   "metadata": {},
   "outputs": [],
   "source": [
    "def numerical_advection_diffusion(x, t_min, t_max, nt, u, D, M):\n",
    "    psi = analytical_solution(x, t_min, u, D)\n",
    "    output = [psi.copy()]\n",
    "    \n",
    "    for index in range(nt):\n",
    "        C = np.zeros(len(psi) - 1)\n",
    "        \n",
    "        for i in range(1, len(psi)):\n",
    "            diff = (psi[i] - psi[i - 1]) / (x[i] - x[i - 1])  # Spatial difference\n",
    "            avg = (psi[i] + psi[i - 1]) / 2  # Average value for flux\n",
    "            C[i - 1] = dt / (x[i] - x[i - 1]) * (u - 2 * D * diff / avg)\n",
    "        \n",
    "        new_psi = psi.copy()\n",
    "\n",
    "        for i in range(1, len(psi) - 1):\n",
    "            new_psi[i] -= F(psi[i], psi[i + 1], C[i]) - F(psi[i - 1], psi[i], C[i - 1])\n",
    "\n",
    "        psi = new_psi\n",
    "        output.append(psi.copy())\n",
    "    \n",
    "    return output"
   ]
  },
  {
   "cell_type": "code",
   "execution_count": 25,
   "id": "b7b6ca42",
   "metadata": {},
   "outputs": [],
   "source": [
    "def rmse_error(numeric, true_value):\n",
    "    return np.sqrt(np.mean((numeric - true_value) ** 2))"
   ]
  },
  {
   "cell_type": "code",
   "execution_count": 26,
   "id": "ce93b7d7",
   "metadata": {},
   "outputs": [
    {
     "name": "stderr",
     "output_type": "stream",
     "text": [
      "/var/folders/9_/vrjvn4xx4fd31flw29nx6bpr0000gp/T/ipykernel_72420/440699910.py:3: RuntimeWarning: overflow encountered in scalar multiply\n",
      "  .5 * (C - abs(C)) * psi_r\n",
      "/var/folders/9_/vrjvn4xx4fd31flw29nx6bpr0000gp/T/ipykernel_72420/4174327560.py:11: RuntimeWarning: invalid value encountered in scalar divide\n",
      "  C[i - 1] = dt / (x[i] - x[i - 1]) * (u - 2 * D * diff / avg)\n",
      "/var/folders/9_/vrjvn4xx4fd31flw29nx6bpr0000gp/T/ipykernel_72420/4174327560.py:10: RuntimeWarning: invalid value encountered in scalar add\n",
      "  avg = (psi[i] + psi[i - 1]) / 2  # Average value for flux\n",
      "/var/folders/9_/vrjvn4xx4fd31flw29nx6bpr0000gp/T/ipykernel_72420/4174327560.py:9: RuntimeWarning: overflow encountered in scalar divide\n",
      "  diff = (psi[i] - psi[i - 1]) / (x[i] - x[i - 1])  # Spatial difference\n",
      "/var/folders/9_/vrjvn4xx4fd31flw29nx6bpr0000gp/T/ipykernel_72420/440699910.py:2: RuntimeWarning: invalid value encountered in scalar add\n",
      "  return .5 * (C + abs(C)) * psi_l + \\\n",
      "/var/folders/9_/vrjvn4xx4fd31flw29nx6bpr0000gp/T/ipykernel_72420/440699910.py:3: RuntimeWarning: invalid value encountered in scalar subtract\n",
      "  .5 * (C - abs(C)) * psi_r\n"
     ]
    },
    {
     "data": {
      "image/png": "[encoded data removed]",
      "text/plain": [
       "<Figure size 640x480 with 1 Axes>"
      ]
     },
     "metadata": {},
     "output_type": "display_data"
    }
   ],
   "source": [
    "output = numerical_advection_diffusion(x, t_min, t_max, nt, u, D, M)\n",
    "\n",
    "step = nt  # You can change this to any step number\n",
    "\n",
    "analytical = analytical_solution(x, t_max, u, D)\n",
    "\n",
    "numerical = output[step]\n",
    "\n",
    "rmse_val = rmse_error(numerical, analytical) # RMSE error\n",
    "\n",
    "# Create the plot\n",
    "fig = plt.figure()\n",
    "plt.plot(x, analytical, label='Analytical')\n",
    "plt.plot(x, numerical, label='Numerical')\n",
    "plt.title(f'RMSE: {rmse_val:.2e} at t = {t_max:.2f} s')\n",
    "plt.xlabel('x [m]')\n",
    "plt.ylabel('Concentration [mol/m]')\n",
    "plt.legend()\n",
    "plt.grid(True)"
   ]
  }
 ],
 "metadata": {
  "kernelspec": {
   "display_name": "datascience",
   "language": "python",
   "name": "python3"
  },
  "language_info": {
   "codemirror_mode": {
    "name": "ipython",
    "version": 3
   },
   "file_extension": ".py",
   "mimetype": "text/x-python",
   "name": "python",
   "nbconvert_exporter": "python",
   "pygments_lexer": "ipython3",
   "version": "3.12.7"
  }
 },
 "nbformat": 4,
 "nbformat_minor": 5
}
